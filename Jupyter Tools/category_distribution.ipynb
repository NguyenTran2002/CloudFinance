{
 "cells": [
  {
   "attachments": {},
   "cell_type": "markdown",
   "metadata": {},
   "source": [
    "# Category Distribution\n",
    "This notebook will generate a bar chart showing how much is spent in each category"
   ]
  },
  {
   "cell_type": "code",
   "execution_count": 3,
   "metadata": {},
   "outputs": [],
   "source": [
    "# import libraries\n",
    "import pandas as pd\n",
    "import matplotlib.pyplot as plt\n",
    "import seaborn as sns\n",
    "\n",
    "# navigate to the Features folder\n",
    "import sys\n",
    "sys.path.append(sys.path[0]+'/../Features') # .. instead of . because we're in the Jupyter Tools folder\n",
    "\n",
    "# import features\n",
    "import helper\n",
    "import category_module"
   ]
  },
  {
   "cell_type": "code",
   "execution_count": 5,
   "metadata": {},
   "outputs": [
    {
     "data": {
      "text/html": [
       "<div>\n",
       "<style scoped>\n",
       "    .dataframe tbody tr th:only-of-type {\n",
       "        vertical-align: middle;\n",
       "    }\n",
       "\n",
       "    .dataframe tbody tr th {\n",
       "        vertical-align: top;\n",
       "    }\n",
       "\n",
       "    .dataframe thead th {\n",
       "        text-align: right;\n",
       "    }\n",
       "</style>\n",
       "<table border=\"1\" class=\"dataframe\">\n",
       "  <thead>\n",
       "    <tr style=\"text-align: right;\">\n",
       "      <th></th>\n",
       "      <th>Unique ID</th>\n",
       "      <th>Description</th>\n",
       "      <th>Category</th>\n",
       "      <th>Amount</th>\n",
       "      <th>Date</th>\n",
       "      <th>Account</th>\n",
       "      <th>Third Party</th>\n",
       "    </tr>\n",
       "  </thead>\n",
       "  <tbody>\n",
       "    <tr>\n",
       "      <th>0</th>\n",
       "      <td>1676269022628416</td>\n",
       "      <td>Randomly generated expenses for Business Services</td>\n",
       "      <td>Business Services</td>\n",
       "      <td>698.0</td>\n",
       "      <td>2015-01-01</td>\n",
       "      <td>Amex Blue Cash Preferred</td>\n",
       "      <td>NaN</td>\n",
       "    </tr>\n",
       "    <tr>\n",
       "      <th>1</th>\n",
       "      <td>1676269022628740</td>\n",
       "      <td>Randomly generated expenses for Health and Fit...</td>\n",
       "      <td>Health and Fitness</td>\n",
       "      <td>853.0</td>\n",
       "      <td>2015-01-01</td>\n",
       "      <td>Capital One Savor</td>\n",
       "      <td>NaN</td>\n",
       "    </tr>\n",
       "    <tr>\n",
       "      <th>2</th>\n",
       "      <td>1676269022629187</td>\n",
       "      <td>Randomly generated expenses for Pet</td>\n",
       "      <td>Pet</td>\n",
       "      <td>786.0</td>\n",
       "      <td>2015-01-01</td>\n",
       "      <td>Chase Freedom Flex</td>\n",
       "      <td>NaN</td>\n",
       "    </tr>\n",
       "    <tr>\n",
       "      <th>3</th>\n",
       "      <td>1676269022629212</td>\n",
       "      <td>Randomly generated expenses for Home</td>\n",
       "      <td>Home</td>\n",
       "      <td>670.0</td>\n",
       "      <td>2015-01-02</td>\n",
       "      <td>Chase Freedom Flex</td>\n",
       "      <td>NaN</td>\n",
       "    </tr>\n",
       "    <tr>\n",
       "      <th>4</th>\n",
       "      <td>1676269022629229</td>\n",
       "      <td>Randomly generated expenses for Shopping</td>\n",
       "      <td>Shopping</td>\n",
       "      <td>958.0</td>\n",
       "      <td>2015-01-02</td>\n",
       "      <td>Discover It</td>\n",
       "      <td>NaN</td>\n",
       "    </tr>\n",
       "  </tbody>\n",
       "</table>\n",
       "</div>"
      ],
      "text/plain": [
       "          Unique ID                                        Description  \\\n",
       "0  1676269022628416  Randomly generated expenses for Business Services   \n",
       "1  1676269022628740  Randomly generated expenses for Health and Fit...   \n",
       "2  1676269022629187                Randomly generated expenses for Pet   \n",
       "3  1676269022629212               Randomly generated expenses for Home   \n",
       "4  1676269022629229           Randomly generated expenses for Shopping   \n",
       "\n",
       "             Category  Amount        Date                   Account  \\\n",
       "0   Business Services   698.0  2015-01-01  Amex Blue Cash Preferred   \n",
       "1  Health and Fitness   853.0  2015-01-01         Capital One Savor   \n",
       "2                 Pet   786.0  2015-01-01        Chase Freedom Flex   \n",
       "3                Home   670.0  2015-01-02        Chase Freedom Flex   \n",
       "4            Shopping   958.0  2015-01-02               Discover It   \n",
       "\n",
       "  Third Party  \n",
       "0         NaN  \n",
       "1         NaN  \n",
       "2         NaN  \n",
       "3         NaN  \n",
       "4         NaN  "
      ]
     },
     "execution_count": 5,
     "metadata": {},
     "output_type": "execute_result"
    }
   ],
   "source": [
    "# read the file expenses.csv from Data folder as a dataframe\n",
    "expenses_df = pd.read_csv('../Data/Expenses.csv')\n",
    "\n",
    "# convert the column \"Amount\" to float\n",
    "expenses_df.Amount = expenses_df.Amount.astype(float)\n",
    "\n",
    "expenses_df.head()"
   ]
  },
  {
   "cell_type": "code",
   "execution_count": null,
   "metadata": {},
   "outputs": [],
   "source": [
    "# get the unique categories\n",
    "categories = expenses_df.Category.unique()\n",
    "\n",
    "# create a dictionary to store the total amount spent in each category\n",
    "category_amount = {}\n",
    "\n",
    "# loop through the categories\n",
    "for category in categories:\n",
    "    # get the total amount spent in each category\n",
    "    category_amount[category] = category_module.sum_category(expenses_df, category, '')"
   ]
  },
  {
   "cell_type": "code",
   "execution_count": null,
   "metadata": {},
   "outputs": [],
   "source": [
    "# sort the data\n",
    "category_df = category_df.sort_values(by=['Amount'], ascending=False)\n",
    "\n",
    "# create the bar chart\n",
    "plt.figure(figsize=(20, 10)) # size\n",
    "ax = sns.barplot(x = 'Category', y = 'Amount', data = category_df)\n",
    "\n",
    "# shows value on top of each bar\n",
    "for i in ax.containers:\n",
    "    ax.bar_label(i,)\n",
    "\n",
    "plt.show()"
   ]
  },
  {
   "cell_type": "code",
   "execution_count": null,
   "metadata": {},
   "outputs": [],
   "source": []
  }
 ],
 "metadata": {
  "kernelspec": {
   "display_name": "Python 3",
   "language": "python",
   "name": "python3"
  },
  "language_info": {
   "codemirror_mode": {
    "name": "ipython",
    "version": 3
   },
   "file_extension": ".py",
   "mimetype": "text/x-python",
   "name": "python",
   "nbconvert_exporter": "python",
   "pygments_lexer": "ipython3",
   "version": "3.10.7"
  },
  "orig_nbformat": 4,
  "vscode": {
   "interpreter": {
    "hash": "aee8b7b246df8f9039afb4144a1f6fd8d2ca17a180786b69acc140d282b71a49"
   }
  }
 },
 "nbformat": 4,
 "nbformat_minor": 2
}
