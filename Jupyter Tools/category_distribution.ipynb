{
 "cells": [
  {
   "attachments": {},
   "cell_type": "markdown",
   "metadata": {},
   "source": [
    "# Category Distribution\n",
    "This notebook will generate a bar chart showing how much is spent in each category"
   ]
  },
  {
   "cell_type": "code",
   "execution_count": 24,
   "metadata": {},
   "outputs": [],
   "source": [
    "# import libraries\n",
    "import pandas as pd\n",
    "import matplotlib.pyplot as plt\n",
    "import seaborn as sns\n",
    "\n",
    "# navigate to the Features folder\n",
    "import sys\n",
    "sys.path.append(sys.path[0]+'/../Features') # .. instead of . because we're in the Jupyter Tools folder\n",
    "\n",
    "# import features\n",
    "import helper\n",
    "import category_module"
   ]
  },
  {
   "cell_type": "code",
   "execution_count": 25,
   "metadata": {},
   "outputs": [
    {
     "data": {
      "text/html": [
       "<div>\n",
       "<style scoped>\n",
       "    .dataframe tbody tr th:only-of-type {\n",
       "        vertical-align: middle;\n",
       "    }\n",
       "\n",
       "    .dataframe tbody tr th {\n",
       "        vertical-align: top;\n",
       "    }\n",
       "\n",
       "    .dataframe thead th {\n",
       "        text-align: right;\n",
       "    }\n",
       "</style>\n",
       "<table border=\"1\" class=\"dataframe\">\n",
       "  <thead>\n",
       "    <tr style=\"text-align: right;\">\n",
       "      <th></th>\n",
       "      <th>Unique ID</th>\n",
       "      <th>Description</th>\n",
       "      <th>Category</th>\n",
       "      <th>Amount</th>\n",
       "      <th>Date</th>\n",
       "      <th>Account</th>\n",
       "      <th>Third Party</th>\n",
       "    </tr>\n",
       "  </thead>\n",
       "  <tbody>\n",
       "    <tr>\n",
       "      <th>0</th>\n",
       "      <td>1676311868042907</td>\n",
       "      <td>Randomly generated expenses for Home</td>\n",
       "      <td>Home</td>\n",
       "      <td>50.0</td>\n",
       "      <td>2015-01-01</td>\n",
       "      <td>Amex Blue Cash Preferred</td>\n",
       "      <td>NaN</td>\n",
       "    </tr>\n",
       "    <tr>\n",
       "      <th>1</th>\n",
       "      <td>1676311868043323</td>\n",
       "      <td>Randomly generated expenses for Utilities</td>\n",
       "      <td>Utilities</td>\n",
       "      <td>25.0</td>\n",
       "      <td>2015-01-02</td>\n",
       "      <td>Amex Blue Cash Preferred</td>\n",
       "      <td>Sophia</td>\n",
       "    </tr>\n",
       "    <tr>\n",
       "      <th>2</th>\n",
       "      <td>1676311868045289</td>\n",
       "      <td>Randomly generated expenses for Food and Dining</td>\n",
       "      <td>Food and Dining</td>\n",
       "      <td>24.0</td>\n",
       "      <td>2015-01-03</td>\n",
       "      <td>Amex Blue Cash Preferred</td>\n",
       "      <td>NaN</td>\n",
       "    </tr>\n",
       "    <tr>\n",
       "      <th>3</th>\n",
       "      <td>1676311868046338</td>\n",
       "      <td>Randomly generated expenses for Kids</td>\n",
       "      <td>Kids</td>\n",
       "      <td>1.0</td>\n",
       "      <td>2015-01-04</td>\n",
       "      <td>Chase Freedom Flex</td>\n",
       "      <td>NaN</td>\n",
       "    </tr>\n",
       "    <tr>\n",
       "      <th>4</th>\n",
       "      <td>1676311868046569</td>\n",
       "      <td>Randomly generated expenses for Entertainment</td>\n",
       "      <td>Entertainment</td>\n",
       "      <td>10.0</td>\n",
       "      <td>2015-01-04</td>\n",
       "      <td>Amex Blue Cash Preferred</td>\n",
       "      <td>NaN</td>\n",
       "    </tr>\n",
       "  </tbody>\n",
       "</table>\n",
       "</div>"
      ],
      "text/plain": [
       "          Unique ID                                      Description  \\\n",
       "0  1676311868042907             Randomly generated expenses for Home   \n",
       "1  1676311868043323        Randomly generated expenses for Utilities   \n",
       "2  1676311868045289  Randomly generated expenses for Food and Dining   \n",
       "3  1676311868046338             Randomly generated expenses for Kids   \n",
       "4  1676311868046569    Randomly generated expenses for Entertainment   \n",
       "\n",
       "          Category  Amount       Date                   Account Third Party  \n",
       "0             Home    50.0 2015-01-01  Amex Blue Cash Preferred         NaN  \n",
       "1        Utilities    25.0 2015-01-02  Amex Blue Cash Preferred      Sophia  \n",
       "2  Food and Dining    24.0 2015-01-03  Amex Blue Cash Preferred         NaN  \n",
       "3             Kids     1.0 2015-01-04        Chase Freedom Flex         NaN  \n",
       "4    Entertainment    10.0 2015-01-04  Amex Blue Cash Preferred         NaN  "
      ]
     },
     "execution_count": 25,
     "metadata": {},
     "output_type": "execute_result"
    }
   ],
   "source": [
    "# read the file expenses.csv from Data folder as a dataframe\n",
    "expenses_df = pd.read_csv('../Data/Expenses.csv')\n",
    "\n",
    "# convert the column \"Amount\" to float\n",
    "expenses_df.Amount = expenses_df.Amount.astype(float)\n",
    "\n",
    "# convert the column \"Date\" to datetime\n",
    "expenses_df.Date = pd.to_datetime(expenses_df.Date)\n",
    "\n",
    "expenses_df.head()"
   ]
  },
  {
   "cell_type": "code",
   "execution_count": 26,
   "metadata": {},
   "outputs": [],
   "source": [
    "# get the sum of each category\n",
    "sum_category_dict = category_module.sum_ALL_categories(expenses_df, start_time = '2023-01-01', end_time = '2023-12-31')\n",
    "\n",
    "# convert the dictionary to a dataframe\n",
    "categories_df = pd.DataFrame(sum_category_dict.items(), columns = ['Category', 'Amount'])"
   ]
  },
  {
   "cell_type": "code",
   "execution_count": 27,
   "metadata": {},
   "outputs": [
    {
     "data": {
      "image/png": "[encoded data removed]",
      "text/plain": [
       "<Figure size 1440x720 with 1 Axes>"
      ]
     },
     "metadata": {
      "needs_background": "light"
     },
     "output_type": "display_data"
    }
   ],
   "source": [
    "# sort the data\n",
    "categories_df = categories_df.sort_values(by = ['Amount'], ascending=False)\n",
    "\n",
    "# create the bar chart\n",
    "plt.figure(figsize=(20, 10)) # size\n",
    "ax = sns.barplot(x = 'Category', y = 'Amount', data = categories_df)\n",
    "\n",
    "# shows value on top of each bar\n",
    "for i in ax.containers:\n",
    "    ax.bar_label(i,)\n",
    "\n",
    "plt.show()"
   ]
  },
  {
   "cell_type": "code",
   "execution_count": null,
   "metadata": {},
   "outputs": [],
   "source": []
  }
 ],
 "metadata": {
  "kernelspec": {
   "display_name": "Python 3",
   "language": "python",
   "name": "python3"
  },
  "language_info": {
   "codemirror_mode": {
    "name": "ipython",
    "version": 3
   },
   "file_extension": ".py",
   "mimetype": "text/x-python",
   "name": "python",
   "nbconvert_exporter": "python",
   "pygments_lexer": "ipython3",
   "version": "3.10.7"
  },
  "orig_nbformat": 4,
  "vscode": {
   "interpreter": {
    "hash": "aee8b7b246df8f9039afb4144a1f6fd8d2ca17a180786b69acc140d282b71a49"
   }
  }
 },
 "nbformat": 4,
 "nbformat_minor": 2
}
