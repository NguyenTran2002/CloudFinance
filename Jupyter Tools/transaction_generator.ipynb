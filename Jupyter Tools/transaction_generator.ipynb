{
 "cells": [
  {
   "attachments": {},
   "cell_type": "markdown",
   "metadata": {},
   "source": [
    "# Transaction Generator\n",
    "This notebook is used to generate random financial transactions. These random data will be used to test and develop CloudFinance."
   ]
  },
  {
   "attachments": {},
   "cell_type": "markdown",
   "metadata": {},
   "source": [
    "## Set Up Environment"
   ]
  },
  {
   "cell_type": "code",
   "execution_count": 1,
   "metadata": {},
   "outputs": [],
   "source": [
    "import datetime\n",
    "import random\n",
    "import pandas as pd\n",
    "\n",
    "# navigate to the Features folder\n",
    "import sys\n",
    "sys.path.append(sys.path[0]+'/../Features') # .. instead of . because we're in the Jupyter Tools folder\n",
    "\n",
    "# import features\n",
    "import helper"
   ]
  },
  {
   "attachments": {},
   "cell_type": "markdown",
   "metadata": {},
   "source": [
    "## Data Structure\n",
    "\n",
    "The final dataframe will have 7 features:\n",
    "- Description\n",
    "- Amount\n",
    "- Date\n",
    "- Account\n",
    "- Third Party"
   ]
  },
  {
   "cell_type": "code",
   "execution_count": 2,
   "metadata": {},
   "outputs": [],
   "source": [
    "# initiate empty lists, each store the data of one feature above\n",
    "description_record = []\n",
    "category_record = []\n",
    "amount_record = []\n",
    "date_record = []\n",
    "account_record = []\n",
    "third_party_record = []"
   ]
  },
  {
   "attachments": {},
   "cell_type": "markdown",
   "metadata": {},
   "source": [
    "## Populate the Data"
   ]
  },
  {
   "cell_type": "code",
   "execution_count": 3,
   "metadata": {},
   "outputs": [],
   "source": [
    "# set up the number of days in a month\n",
    "months_dict = {1:31, 2:28, 3:31, 4:30, 5:31, 6:30, 7:31, 8:31, 9:30, 10:31, 11:30, 12:31}\n",
    "\n",
    "# set up the accounts\n",
    "accounts = ['Chase Freedom Flex', 'Capital One Savor', 'Discover It', 'Amex Blue Cash Preferred', 'Schwab Investor Card']\n",
    "\n",
    "# set up the categories\n",
    "categories = ['Transportation', 'Utilities', 'Book', 'Business Services', 'Clothing', 'Education', 'Entertainment',\\\n",
    "    'Fees and Chargers', 'Financial', 'Food and Dining', 'Gift', 'Health and Fitness', 'Home', 'Kids', 'Misc Expenses',\\\n",
    "    'Personal Care', 'Pet', 'Shopping', 'Reimbursable or Refundable', 'Taxes', 'Uncategorized']\n",
    "\n",
    "# set up the third parties\n",
    "third_parties = ['Ronald', 'Justine', 'Sophia', 'Cara']"
   ]
  },
  {
   "cell_type": "code",
   "execution_count": 4,
   "metadata": {},
   "outputs": [],
   "source": [
    "# set up weighted random odds\n",
    "\n",
    "# random number of transaction a particular day (will randomly choose 1 from this list)\n",
    "transaction_daily_counts = [1, 1, 1, 1, 1, 2, 2, 2, 2, 2, 2, 2, 3, 3, 3, 4, 5, 6, 7, 8, 9, 10]\n",
    "\n",
    "# random category for each transaction (will randomly choose 1 from this list)\n",
    "categories_weighted = ['Transportation', 'Transportation', 'Transportation', 'Transportation', 'Transportation',\\\n",
    "    'Utilities', 'Utilities', 'Utilities', 'Utilities', 'Utilities', 'Utilities', 'Utilities', 'Utilities', 'Utilities',\\\n",
    "    'Book', 'Book', 'Book',\\\n",
    "    'Business Services', 'Business Services', 'Business Services',\\\n",
    "    'Clothing', 'Clothing', 'Clothing', 'Clothing', 'Clothing', 'Clothing',\\\n",
    "    'Education', 'Education', 'Education', 'Education', 'Education', 'Education', 'Education',\\\n",
    "    'Entertainment', 'Entertainment', 'Entertainment', 'Entertainment', 'Entertainment', 'Entertainment', 'Entertainment',\\\n",
    "    'Fees and Chargers',\\\n",
    "    'Financial',\\\n",
    "    'Food and Dining', 'Food and Dining', 'Food and Dining', 'Food and Dining', 'Food and Dining', 'Food and Dining','Food and Dining', 'Food and Dining', 'Food and Dining', 'Food and Dining', 'Food and Dining', 'Food and Dining', 'Food and Dining', 'Food and Dining', 'Food and Dining',\\\n",
    "    'Gift', 'Gift', 'Gift', 'Gift', \\\n",
    "    'Health and Fitness', 'Health and Fitness', 'Health and Fitness', 'Health and Fitness', 'Health and Fitness',\\\n",
    "    'Home', 'Home', 'Home', 'Home', 'Home',\\\n",
    "    'Kids', 'Kids', 'Kids', 'Kids', 'Kids', 'Kids', 'Kids', 'Kids',\\\n",
    "    'Misc Expenses', 'Misc Expenses',\\\n",
    "    'Personal Care', 'Personal Care', 'Personal Care',\\\n",
    "    'Pet', 'Pet', 'Pet', 'Pet',\\\n",
    "    'Shopping', 'Shopping', 'Shopping', 'Shopping', 'Shopping', 'Shopping', 'Shopping', 'Shopping', 'Shopping',\\\n",
    "    'Reimbursable or Refundable', 'Reimbursable or Refundable',\\\n",
    "    'Taxes',\\\n",
    "    'Uncategorized', 'Uncategorized', 'Uncategorized', 'Uncategorized']\n",
    "\n",
    "# random account for each transaction (will randomly choose 1 from this list)\n",
    "accounts_weighted = ['Chase Freedom Flex', 'Chase Freedom Flex', 'Chase Freedom Flex', 'Chase Freedom Flex', 'Chase Freedom Flex', 'Chase Freedom Flex', 'Chase Freedom Flex', 'Chase Freedom Flex', 'Chase Freedom Flex', 'Chase Freedom Flex', \\\n",
    "    'Capital One Savor', 'Capital One Savor', 'Capital One Savor', 'Capital One Savor', \\\n",
    "    'Discover It', 'Discover It', 'Discover It', 'Discover It', 'Discover It', 'Discover It', 'Discover It', \n",
    "    'Amex Blue Cash Preferred', 'Amex Blue Cash Preferred', 'Amex Blue Cash Preferred', 'Amex Blue Cash Preferred', 'Amex Blue Cash Preferred', \\\n",
    "    'Schwab Investor Card', 'Schwab Investor Card']"
   ]
  },
  {
   "cell_type": "code",
   "execution_count": 5,
   "metadata": {},
   "outputs": [],
   "source": [
    "# loop through every single day from 2015-01-01 to 2023-01-31\n",
    "for year in range(2015, 2024):\n",
    "\n",
    "    for month in range(1, 13):\n",
    "\n",
    "        for day in range(1, months_dict[month] + 1):\n",
    "\n",
    "            # get the date as datetime object\n",
    "            this_day = datetime.date(year,month,day)\n",
    "\n",
    "            # number of transactions on this day\n",
    "            transaction_count = random.choice(transaction_daily_counts)\n",
    "\n",
    "            for i in range(transaction_count):\n",
    "\n",
    "                # set the category\n",
    "                category_record.append(random.choice(categories_weighted))\n",
    "\n",
    "                # set the amount\n",
    "                amount_record.append(random.randint(1,1000))\n",
    "\n",
    "                # set the date\n",
    "                date_record.append(this_day)\n",
    "\n",
    "                # set the account\n",
    "                account_record.append(random.choice(accounts_weighted))\n",
    "\n",
    "                # 15% chance of third party\n",
    "                if helper.random_from_percentage(15) == True:\n",
    "\n",
    "                    # set the third party\n",
    "                    third_party_record.append(random.choice(third_parties))\n",
    "\n",
    "                else:\n",
    "                    third_party_record.append('')\n",
    "\n",
    "                # generate a description\n",
    "                random_description = \"Randomly generated expenses for \" + category_record[-1]\n",
    "                description_record.append(random_description)"
   ]
  },
  {
   "cell_type": "code",
   "execution_count": 6,
   "metadata": {},
   "outputs": [
    {
     "data": {
      "text/html": [
       "<div>\n",
       "<style scoped>\n",
       "    .dataframe tbody tr th:only-of-type {\n",
       "        vertical-align: middle;\n",
       "    }\n",
       "\n",
       "    .dataframe tbody tr th {\n",
       "        vertical-align: top;\n",
       "    }\n",
       "\n",
       "    .dataframe thead th {\n",
       "        text-align: right;\n",
       "    }\n",
       "</style>\n",
       "<table border=\"1\" class=\"dataframe\">\n",
       "  <thead>\n",
       "    <tr style=\"text-align: right;\">\n",
       "      <th></th>\n",
       "      <th>Description</th>\n",
       "      <th>Category</th>\n",
       "      <th>Amount</th>\n",
       "      <th>Date</th>\n",
       "      <th>Account</th>\n",
       "      <th>Third Party</th>\n",
       "    </tr>\n",
       "  </thead>\n",
       "  <tbody>\n",
       "    <tr>\n",
       "      <th>0</th>\n",
       "      <td>Randomly generated expenses for Reimbursable o...</td>\n",
       "      <td>Reimbursable or Refundable</td>\n",
       "      <td>415</td>\n",
       "      <td>2015-01-01</td>\n",
       "      <td>Chase Freedom Flex</td>\n",
       "      <td></td>\n",
       "    </tr>\n",
       "    <tr>\n",
       "      <th>1</th>\n",
       "      <td>Randomly generated expenses for Food and Dining</td>\n",
       "      <td>Food and Dining</td>\n",
       "      <td>971</td>\n",
       "      <td>2015-01-01</td>\n",
       "      <td>Discover It</td>\n",
       "      <td></td>\n",
       "    </tr>\n",
       "    <tr>\n",
       "      <th>2</th>\n",
       "      <td>Randomly generated expenses for Food and Dining</td>\n",
       "      <td>Food and Dining</td>\n",
       "      <td>502</td>\n",
       "      <td>2015-01-02</td>\n",
       "      <td>Capital One Savor</td>\n",
       "      <td></td>\n",
       "    </tr>\n",
       "    <tr>\n",
       "      <th>3</th>\n",
       "      <td>Randomly generated expenses for Health and Fit...</td>\n",
       "      <td>Health and Fitness</td>\n",
       "      <td>822</td>\n",
       "      <td>2015-01-02</td>\n",
       "      <td>Chase Freedom Flex</td>\n",
       "      <td></td>\n",
       "    </tr>\n",
       "    <tr>\n",
       "      <th>4</th>\n",
       "      <td>Randomly generated expenses for Pet</td>\n",
       "      <td>Pet</td>\n",
       "      <td>389</td>\n",
       "      <td>2015-01-03</td>\n",
       "      <td>Chase Freedom Flex</td>\n",
       "      <td>Cara</td>\n",
       "    </tr>\n",
       "  </tbody>\n",
       "</table>\n",
       "</div>"
      ],
      "text/plain": [
       "                                         Description  \\\n",
       "0  Randomly generated expenses for Reimbursable o...   \n",
       "1    Randomly generated expenses for Food and Dining   \n",
       "2    Randomly generated expenses for Food and Dining   \n",
       "3  Randomly generated expenses for Health and Fit...   \n",
       "4                Randomly generated expenses for Pet   \n",
       "\n",
       "                     Category  Amount        Date             Account  \\\n",
       "0  Reimbursable or Refundable     415  2015-01-01  Chase Freedom Flex   \n",
       "1             Food and Dining     971  2015-01-01         Discover It   \n",
       "2             Food and Dining     502  2015-01-02   Capital One Savor   \n",
       "3          Health and Fitness     822  2015-01-02  Chase Freedom Flex   \n",
       "4                         Pet     389  2015-01-03  Chase Freedom Flex   \n",
       "\n",
       "  Third Party  \n",
       "0              \n",
       "1              \n",
       "2              \n",
       "3              \n",
       "4        Cara  "
      ]
     },
     "execution_count": 6,
     "metadata": {},
     "output_type": "execute_result"
    }
   ],
   "source": [
    "# create a dataframe from the lists\n",
    "expenses_df = pd.DataFrame({'Description':description_record,\\\n",
    "    'Category': category_record,\\\n",
    "    'Amount': amount_record,\\\n",
    "    'Date': date_record,\\\n",
    "    'Account': account_record,\\\n",
    "    'Third Party': third_party_record})\n",
    "\n",
    "# preview the dataframe\n",
    "expenses_df.head()"
   ]
  },
  {
   "cell_type": "code",
   "execution_count": 7,
   "metadata": {},
   "outputs": [],
   "source": [
    "# export the data\n",
    "# expenses_df.to_csv('../Data/Expenses.csv', index = False)\n",
    "# commented out to avoid accidental overwrite"
   ]
  }
 ],
 "metadata": {
  "kernelspec": {
   "display_name": "Python 3",
   "language": "python",
   "name": "python3"
  },
  "language_info": {
   "codemirror_mode": {
    "name": "ipython",
    "version": 3
   },
   "file_extension": ".py",
   "mimetype": "text/x-python",
   "name": "python",
   "nbconvert_exporter": "python",
   "pygments_lexer": "ipython3",
   "version": "3.10.7"
  },
  "orig_nbformat": 4,
  "vscode": {
   "interpreter": {
    "hash": "aee8b7b246df8f9039afb4144a1f6fd8d2ca17a180786b69acc140d282b71a49"
   }
  }
 },
 "nbformat": 4,
 "nbformat_minor": 2
}
