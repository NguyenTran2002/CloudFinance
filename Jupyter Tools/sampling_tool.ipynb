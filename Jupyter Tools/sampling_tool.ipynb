{
 "cells": [
  {
   "attachments": {},
   "cell_type": "markdown",
   "metadata": {},
   "source": [
    "# Sampling Tool\n",
    "Sample a few transactions from a larger dataset for testing purposes"
   ]
  },
  {
   "cell_type": "code",
   "execution_count": 2,
   "metadata": {},
   "outputs": [],
   "source": [
    "import datetime\n",
    "import random\n",
    "import pandas as pd\n",
    "\n",
    "# navigate to the Features folder\n",
    "import sys\n",
    "sys.path.append(sys.path[0]+'/../Features') # .. instead of . because we're in the Jupyter Tools folder\n",
    "\n",
    "# import features\n",
    "import helper"
   ]
  },
  {
   "cell_type": "code",
   "execution_count": 3,
   "metadata": {},
   "outputs": [
    {
     "data": {
      "text/html": [
       "<div>\n",
       "<style scoped>\n",
       "    .dataframe tbody tr th:only-of-type {\n",
       "        vertical-align: middle;\n",
       "    }\n",
       "\n",
       "    .dataframe tbody tr th {\n",
       "        vertical-align: top;\n",
       "    }\n",
       "\n",
       "    .dataframe thead th {\n",
       "        text-align: right;\n",
       "    }\n",
       "</style>\n",
       "<table border=\"1\" class=\"dataframe\">\n",
       "  <thead>\n",
       "    <tr style=\"text-align: right;\">\n",
       "      <th></th>\n",
       "      <th>Description</th>\n",
       "      <th>Category</th>\n",
       "      <th>Amount</th>\n",
       "      <th>Date</th>\n",
       "      <th>Account</th>\n",
       "      <th>Third Party</th>\n",
       "    </tr>\n",
       "  </thead>\n",
       "  <tbody>\n",
       "    <tr>\n",
       "      <th>0</th>\n",
       "      <td>Randomly generated expenses for Reimbursable o...</td>\n",
       "      <td>Reimbursable or Refundable</td>\n",
       "      <td>415</td>\n",
       "      <td>2015-01-01</td>\n",
       "      <td>Chase Freedom Flex</td>\n",
       "      <td>NaN</td>\n",
       "    </tr>\n",
       "    <tr>\n",
       "      <th>1</th>\n",
       "      <td>Randomly generated expenses for Food and Dining</td>\n",
       "      <td>Food and Dining</td>\n",
       "      <td>971</td>\n",
       "      <td>2015-01-01</td>\n",
       "      <td>Discover It</td>\n",
       "      <td>NaN</td>\n",
       "    </tr>\n",
       "    <tr>\n",
       "      <th>2</th>\n",
       "      <td>Randomly generated expenses for Food and Dining</td>\n",
       "      <td>Food and Dining</td>\n",
       "      <td>502</td>\n",
       "      <td>2015-01-02</td>\n",
       "      <td>Capital One Savor</td>\n",
       "      <td>NaN</td>\n",
       "    </tr>\n",
       "    <tr>\n",
       "      <th>3</th>\n",
       "      <td>Randomly generated expenses for Health and Fit...</td>\n",
       "      <td>Health and Fitness</td>\n",
       "      <td>822</td>\n",
       "      <td>2015-01-02</td>\n",
       "      <td>Chase Freedom Flex</td>\n",
       "      <td>NaN</td>\n",
       "    </tr>\n",
       "    <tr>\n",
       "      <th>4</th>\n",
       "      <td>Randomly generated expenses for Pet</td>\n",
       "      <td>Pet</td>\n",
       "      <td>389</td>\n",
       "      <td>2015-01-03</td>\n",
       "      <td>Chase Freedom Flex</td>\n",
       "      <td>Cara</td>\n",
       "    </tr>\n",
       "  </tbody>\n",
       "</table>\n",
       "</div>"
      ],
      "text/plain": [
       "                                         Description  \\\n",
       "0  Randomly generated expenses for Reimbursable o...   \n",
       "1    Randomly generated expenses for Food and Dining   \n",
       "2    Randomly generated expenses for Food and Dining   \n",
       "3  Randomly generated expenses for Health and Fit...   \n",
       "4                Randomly generated expenses for Pet   \n",
       "\n",
       "                     Category  Amount        Date             Account  \\\n",
       "0  Reimbursable or Refundable     415  2015-01-01  Chase Freedom Flex   \n",
       "1             Food and Dining     971  2015-01-01         Discover It   \n",
       "2             Food and Dining     502  2015-01-02   Capital One Savor   \n",
       "3          Health and Fitness     822  2015-01-02  Chase Freedom Flex   \n",
       "4                         Pet     389  2015-01-03  Chase Freedom Flex   \n",
       "\n",
       "  Third Party  \n",
       "0         NaN  \n",
       "1         NaN  \n",
       "2         NaN  \n",
       "3         NaN  \n",
       "4        Cara  "
      ]
     },
     "execution_count": 3,
     "metadata": {},
     "output_type": "execute_result"
    }
   ],
   "source": [
    "# read in the main data\n",
    "main_df = pd.read_csv('../Data/Expenses.csv')\n",
    "\n",
    "main_df.head()"
   ]
  },
  {
   "cell_type": "code",
   "execution_count": null,
   "metadata": {},
   "outputs": [],
   "source": [
    "# list holding the random transactions"
   ]
  }
 ],
 "metadata": {
  "kernelspec": {
   "display_name": "Python 3",
   "language": "python",
   "name": "python3"
  },
  "language_info": {
   "codemirror_mode": {
    "name": "ipython",
    "version": 3
   },
   "file_extension": ".py",
   "mimetype": "text/x-python",
   "name": "python",
   "nbconvert_exporter": "python",
   "pygments_lexer": "ipython3",
   "version": "3.10.7"
  },
  "orig_nbformat": 4,
  "vscode": {
   "interpreter": {
    "hash": "aee8b7b246df8f9039afb4144a1f6fd8d2ca17a180786b69acc140d282b71a49"
   }
  }
 },
 "nbformat": 4,
 "nbformat_minor": 2
}
